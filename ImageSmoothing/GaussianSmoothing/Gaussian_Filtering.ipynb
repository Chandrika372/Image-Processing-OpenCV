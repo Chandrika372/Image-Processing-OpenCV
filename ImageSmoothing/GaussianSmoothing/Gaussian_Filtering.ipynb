{
 "cells": [
  {
   "cell_type": "markdown",
   "metadata": {},
   "source": [
    "### Gaussian Filtering using cv2.GaussianBlur"
   ]
  },
  {
   "cell_type": "code",
   "execution_count": 4,
   "metadata": {
    "scrolled": true
   },
   "outputs": [],
   "source": [
    "import cv2\n",
    "import numpy as np\n",
    "from skimage import io, img_as_float\n",
    "import matplotlib.pyplot as plt\n",
    "#image_as_float is used here to keep the values of the image in floating point value to avoid round-off errors\n",
    "\n",
    "\n",
    "img_gaussian_noise=img_as_float(io.imread('images/Gaussian_noise.jpg',as_gray=True))  #image containing gaussian noise\n",
    "\n",
    "img_saltandpepper_noise=img_as_float(io.imread('images/Salt&pepper_noise.png',as_gray=True)) #image containing salt and pepper noise\n",
    "\n",
    "img_speckle_noise=img_as_float(io.imread('images/Speckle_noise.jpg',as_gray=True)) #image containing speckle noise\n",
    "\n",
    "img_poission_noise=img_as_float(io.imread('images/Poission_noise.png',as_gray=True)) #image containing poission noise\n",
    "\n",
    "\n",
    "img=img_gaussian_noise #use as per preference : here gaussian noise image is used\n",
    "\n",
    "\n",
    "using_cv2 = cv2.GaussianBlur(img, (5,5), 0, borderType=cv2.BORDER_CONSTANT)\n",
    "#BORDER_CONSTANT - Pad the image with a constant value (i.e. black or 0)\n",
    "#BORDER_REPLICATE: The row or column at the very edge of the original is replicated to the extra border.\n",
    "\n",
    "cv2.imshow(\"Original\", img)\n",
    "cv2.imshow(\"Using cv2 gaussian\", using_cv2)\n",
    "\n",
    "cv2.waitKey(0)  #display the window infinitely until any keypress\n",
    "\n",
    "cv2.destroyAllWindows() #simply destroys all the windows we created or popped-up\n",
    "\n",
    "# plt.subplot(1, 2, 1)\n",
    "# plt.title('Original')\n",
    "# plt.imshow(img,cmap='gray')\n",
    "# plt.subplot(1, 2, 2)\n",
    "# plt.title('Using cv2 gaussian')\n",
    "# plt.imshow(using_cv2,cmap='gray')"
   ]
  },
  {
   "cell_type": "markdown",
   "metadata": {},
   "source": [
    "### Original Image > Filtered Image\n",
    "<img src=\"images/gauss1.JPG\" /> "
   ]
  },
  {
   "cell_type": "markdown",
   "metadata": {},
   "source": [
    "### Gaussian Filtering using cv2.getGaussianKernel"
   ]
  },
  {
   "cell_type": "code",
   "execution_count": 5,
   "metadata": {},
   "outputs": [],
   "source": [
    "import cv2\n",
    "import numpy as np\n",
    "from skimage import io, img_as_float\n",
    "#image_as_float is used here to keep the values of the image in floating point value to avoid round-off errors\n",
    "\n",
    "\n",
    "img_gaussian_noise=img_as_float(io.imread('images/Gaussian_noise.jpg',as_gray=True))  #image containing gaussian noise\n",
    "\n",
    "img_saltandpepper_noise=img_as_float(io.imread('images/Salt&pepper_noise.png',as_gray=True)) #image containing salt and pepper noise\n",
    "\n",
    "img_speckle_noise=img_as_float(io.imread('images/Speckle_noise.jpg',as_gray=True)) #image containing speckle noise\n",
    "\n",
    "img_poission_noise=img_as_float(io.imread('images/Poission_noise.png',as_gray=True)) #image containing poission noise\n",
    "\n",
    "\n",
    "img=img_gaussian_noise #use as per preference : here gaussian noise image is used\n",
    "\n",
    "\n",
    "a = cv2.getGaussianKernel(5,1) # Creates a 1-D Gaussian kernel\n",
    "\n",
    "\n",
    "using_cv2 = cv2.sepFilter2D(img,-1,a,a, borderType=cv2.BORDER_CONSTANT) \n",
    "# Apply the above Gaussian kernel. Here, I have used the same kernel for both X and Y\n",
    "#BORDER_CONSTANT - Pad the image with a constant value (i.e. black or 0)\n",
    "#BORDER_REPLICATE: The row or column at the very edge of the original is replicated to the extra border.\n",
    "\n",
    "cv2.imshow(\"Original\", img)\n",
    "cv2.imshow(\"Using cv2 gaussian\", using_cv2)\n",
    "\n",
    "cv2.waitKey(0)  #display the window infinitely until any keypress\n",
    "\n",
    "cv2.destroyAllWindows() #simply destroys all the windows we created or popped-up\n",
    "\n",
    "\n"
   ]
  },
  {
   "cell_type": "markdown",
   "metadata": {},
   "source": [
    "### Original Image > Filtered Image\n",
    "<img src=\"images/gauss2.JPG\" /> "
   ]
  },
  {
   "cell_type": "markdown",
   "metadata": {},
   "source": [
    "### Gaussian Filtering using Gaussian Kernel function"
   ]
  },
  {
   "cell_type": "code",
   "execution_count": 13,
   "metadata": {},
   "outputs": [],
   "source": [
    "import cv2\n",
    "import numpy as np\n",
    "import numpy\n",
    "from skimage import io, img_as_float\n",
    "#image_as_float is used here to keep the values of the image in floating point value to avoid round-off errors\n",
    "\n",
    "def gaussian_kernel(size, size_y=None):\n",
    "    size = int(size)\n",
    "    if not size_y:\n",
    "        size_y = size\n",
    "    else:\n",
    "        size_y = int(size_y)\n",
    "    x, y = numpy.mgrid[-size:size+1, -size_y:size_y+1]\n",
    "    g = numpy.exp(-(x**2/float(size)+y**2/float(size_y)))\n",
    "    return g / g.sum()\n",
    " \n",
    "\n",
    "img_gaussian_noise=img_as_float(io.imread('images/Gaussian_noise.jpg',as_gray=True))  #image containing gaussian noise\n",
    "\n",
    "img_saltandpepper_noise=img_as_float(io.imread('images/Salt&pepper_noise.png',as_gray=True)) #image containing salt and pepper noise\n",
    "\n",
    "img_speckle_noise=img_as_float(io.imread('images/Speckle_noise.jpg',as_gray=True)) #image containing speckle noise\n",
    "\n",
    "img_poission_noise=img_as_float(io.imread('images/Poission_noise.png',as_gray=True)) #image containing poission noise\n",
    "\n",
    "\n",
    "img=img_gaussian_noise #use as per preference : here gaussian noise image is used\n",
    "\n",
    "\n",
    "gaussian_kernel_array = gaussian_kernel(1)\n",
    "#calling the gaussian_kernel function and passing \"1\" which is the kernel size\n",
    "\n",
    "conv_using_cv2 = cv2.filter2D(img, -1, gaussian_kernel_array, borderType=cv2.BORDER_CONSTANT)\n",
    "#BORDER_CONSTANT - Pad the image with a constant value (i.e. black or 0)\n",
    "#BORDER_REPLICATE: The row or column at the very edge of the original is replicated to the extra border.\n",
    "\n",
    "\n",
    "cv2.imshow(\"Original\", img)\n",
    "cv2.imshow(\"Using cv2 gaussian\", conv_using_cv2)\n",
    "\n",
    "cv2.waitKey(0)     #display the window infinitely until any keypress\n",
    "\n",
    "cv2.destroyAllWindows() #simply destroys all the windows we created or popped-up\n"
   ]
  },
  {
   "cell_type": "markdown",
   "metadata": {},
   "source": [
    "### Original Image > Filtered Image\n",
    "<img src=\"images/gauss3.JPG\" /> "
   ]
  },
  {
   "cell_type": "code",
   "execution_count": null,
   "metadata": {},
   "outputs": [],
   "source": []
  }
 ],
 "metadata": {
  "kernelspec": {
   "display_name": "Python 3",
   "language": "python",
   "name": "python3"
  },
  "language_info": {
   "codemirror_mode": {
    "name": "ipython",
    "version": 3
   },
   "file_extension": ".py",
   "mimetype": "text/x-python",
   "name": "python",
   "nbconvert_exporter": "python",
   "pygments_lexer": "ipython3",
   "version": "3.8.3"
  }
 },
 "nbformat": 4,
 "nbformat_minor": 4
}